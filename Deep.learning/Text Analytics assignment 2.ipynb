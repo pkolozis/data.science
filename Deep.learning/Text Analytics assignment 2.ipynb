{
 "cells": [
  {
   "cell_type": "code",
   "execution_count": 0,
   "metadata": {
    "colab": {
     "base_uri": "https://localhost:8080/",
     "height": 74,
     "resources": {
      "http://localhost:8080/nbextensions/google.colab/files.js": {
       "data": "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",
       "headers": [
        [
         "content-type",
         "application/javascript"
        ]
       ],
       "ok": true,
       "status": 200,
       "status_text": ""
      }
     }
    },
    "colab_type": "code",
    "executionInfo": {
     "elapsed": 28812,
     "status": "ok",
     "timestamp": 1582045180651,
     "user": {
      "displayName": "Alexandros Chasapis",
      "photoUrl": "",
      "userId": "04334621904766079219"
     },
     "user_tz": -120
    },
    "id": "75n1eZb7dsaQ",
    "outputId": "1496f682-386a-4540-be06-95ee8dd49428"
   },
   "outputs": [
    {
     "data": {
      "text/html": [
       "\n",
       "     <input type=\"file\" id=\"files-6984a4e6-8525-4fde-8fa5-de844bc2cc42\" name=\"files[]\" multiple disabled />\n",
       "     <output id=\"result-6984a4e6-8525-4fde-8fa5-de844bc2cc42\">\n",
       "      Upload widget is only available when the cell has been executed in the\n",
       "      current browser session. Please rerun this cell to enable.\n",
       "      </output>\n",
       "      <script src=\"/nbextensions/google.colab/files.js\"></script> "
      ],
      "text/plain": [
       "<IPython.core.display.HTML object>"
      ]
     },
     "metadata": {
      "tags": []
     },
     "output_type": "display_data"
    },
    {
     "name": "stdout",
     "output_type": "stream",
     "text": [
      "Saving kaggle.json to kaggle.json\n"
     ]
    }
   ],
   "source": [
    "from google.colab import files\n",
    "files.upload()\n",
    "!pip install -q kaggle\n",
    "!mkdir -p ~/.kaggle\n",
    "!cp kaggle.json ~/.kaggle/\n",
    "!chmod 600 /root/.kaggle/kaggle.json"
   ]
  },
  {
   "cell_type": "code",
   "execution_count": 0,
   "metadata": {
    "colab": {
     "base_uri": "https://localhost:8080/",
     "height": 134
    },
    "colab_type": "code",
    "executionInfo": {
     "elapsed": 9757,
     "status": "ok",
     "timestamp": 1582045184524,
     "user": {
      "displayName": "Alexandros Chasapis",
      "photoUrl": "",
      "userId": "04334621904766079219"
     },
     "user_tz": -120
    },
    "id": "1UU82-SVdyYU",
    "outputId": "5a209622-89c2-4f6f-97d3-264397c07ab3"
   },
   "outputs": [
    {
     "name": "stdout",
     "output_type": "stream",
     "text": [
      "Warning: Looks like you're using an outdated API Version, please consider updating (server 1.5.6 / client 1.5.4)\n",
      "Downloading train.csv.zip to /content\n",
      "  0% 0.00/3.67M [00:00<?, ?B/s]\n",
      "100% 3.67M/3.67M [00:00<00:00, 120MB/s]\n",
      "Downloading test.csv.zip to /content\n",
      " 46% 5.00M/11.0M [00:00<00:00, 33.5MB/s]\n",
      "100% 11.0M/11.0M [00:00<00:00, 53.7MB/s]\n"
     ]
    }
   ],
   "source": [
    "! kaggle competitions download -c twitter-sentiment-analysis2"
   ]
  },
  {
   "cell_type": "code",
   "execution_count": 0,
   "metadata": {
    "colab": {},
    "colab_type": "code",
    "id": "y_4-1FjF9a6e"
   },
   "outputs": [],
   "source": [
    "import pandas as pd\n",
    "import numpy as np\n",
    "from nltk.tokenize import TweetTokenizer\n",
    "from sklearn.model_selection import train_test_split \n",
    "from sklearn.feature_extraction.text import TfidfVectorizer\n",
    "from nltk.corpus import stopwords\n",
    "import nltk\n",
    "from sklearn.linear_model import LogisticRegression\n",
    "from sklearn.metrics import f1_score\n",
    "from sklearn.dummy import DummyClassifier\n",
    "from sklearn.metrics import accuracy_score\n",
    "from sklearn.model_selection import GridSearchCV\n",
    "from sklearn.pipeline import Pipeline\n",
    "from sklearn import metrics\n",
    "from sklearn.neighbors import KNeighborsClassifier\n",
    "from sklearn.model_selection import RandomizedSearchCV\n",
    "import matplotlib.pyplot as plt\n",
    "from sklearn.model_selection import learning_curve\n",
    "from sklearn.model_selection import ShuffleSplit\n",
    "from sklearn.metrics import auc\n",
    "from sklearn.metrics import precision_recall_curve\n",
    "from sklearn.utils import resample\n",
    "import seaborn as sns"
   ]
  },
  {
   "cell_type": "code",
   "execution_count": null,
   "metadata": {},
   "outputs": [],
   "source": [
    "# import the data \n",
    "data = pd.read_csv(\"train.csv.zip\",encoding = \"ISO-8859-1\",index_col = 0)"
   ]
  },
  {
   "cell_type": "code",
   "execution_count": 0,
   "metadata": {
    "colab": {
     "base_uri": "https://localhost:8080/",
     "height": 225
    },
    "colab_type": "code",
    "executionInfo": {
     "elapsed": 1572,
     "status": "ok",
     "timestamp": 1581093131288,
     "user": {
      "displayName": "Alexandros Chasapis",
      "photoUrl": "",
      "userId": "04334621904766079219"
     },
     "user_tz": -120
    },
    "id": "0TlQlGdsfjEw",
    "outputId": "ac717b3b-eaca-4112-e501-57a99576717e"
   },
   "outputs": [
    {
     "data": {
      "text/html": [
       "<div>\n",
       "<style scoped>\n",
       "    .dataframe tbody tr th:only-of-type {\n",
       "        vertical-align: middle;\n",
       "    }\n",
       "\n",
       "    .dataframe tbody tr th {\n",
       "        vertical-align: top;\n",
       "    }\n",
       "\n",
       "    .dataframe thead th {\n",
       "        text-align: right;\n",
       "    }\n",
       "</style>\n",
       "<table border=\"1\" class=\"dataframe\">\n",
       "  <thead>\n",
       "    <tr style=\"text-align: right;\">\n",
       "      <th></th>\n",
       "      <th>Sentiment</th>\n",
       "      <th>SentimentText</th>\n",
       "    </tr>\n",
       "    <tr>\n",
       "      <th>ItemID</th>\n",
       "      <th></th>\n",
       "      <th></th>\n",
       "    </tr>\n",
       "  </thead>\n",
       "  <tbody>\n",
       "    <tr>\n",
       "      <th>1</th>\n",
       "      <td>0</td>\n",
       "      <td>is so sad for my APL frie...</td>\n",
       "    </tr>\n",
       "    <tr>\n",
       "      <th>2</th>\n",
       "      <td>0</td>\n",
       "      <td>I missed the New Moon trail...</td>\n",
       "    </tr>\n",
       "    <tr>\n",
       "      <th>3</th>\n",
       "      <td>1</td>\n",
       "      <td>omg its already 7:30 :O</td>\n",
       "    </tr>\n",
       "    <tr>\n",
       "      <th>4</th>\n",
       "      <td>0</td>\n",
       "      <td>.. Omgaga. Im sooo  im gunna CRy. I'...</td>\n",
       "    </tr>\n",
       "    <tr>\n",
       "      <th>5</th>\n",
       "      <td>0</td>\n",
       "      <td>i think mi bf is cheating on me!!!   ...</td>\n",
       "    </tr>\n",
       "  </tbody>\n",
       "</table>\n",
       "</div>"
      ],
      "text/plain": [
       "        Sentiment                                      SentimentText\n",
       "ItemID                                                              \n",
       "1               0                       is so sad for my APL frie...\n",
       "2               0                     I missed the New Moon trail...\n",
       "3               1                            omg its already 7:30 :O\n",
       "4               0            .. Omgaga. Im sooo  im gunna CRy. I'...\n",
       "5               0           i think mi bf is cheating on me!!!   ..."
      ]
     },
     "execution_count": 5,
     "metadata": {
      "tags": []
     },
     "output_type": "execute_result"
    }
   ],
   "source": [
    "data.head()"
   ]
  },
  {
   "cell_type": "code",
   "execution_count": 0,
   "metadata": {
    "colab": {
     "base_uri": "https://localhost:8080/",
     "height": 50
    },
    "colab_type": "code",
    "executionInfo": {
     "elapsed": 3179,
     "status": "ok",
     "timestamp": 1581093056832,
     "user": {
      "displayName": "Alexandros Chasapis",
      "photoUrl": "",
      "userId": "04334621904766079219"
     },
     "user_tz": -120
    },
    "id": "8lCHQ_109a66",
    "outputId": "8016a4ea-3b64-4a90-c2a7-d87e442e78d4"
   },
   "outputs": [
    {
     "name": "stdout",
     "output_type": "stream",
     "text": [
      "Sad 43532\n",
      "Neutral 56457\n"
     ]
    }
   ],
   "source": [
    "# count the size of the classes\n",
    "print(\"Sad\",(data.Sentiment == 0).sum())\n",
    "print(\"Neutral\",(data.Sentiment == 1).sum())"
   ]
  },
  {
   "cell_type": "code",
   "execution_count": 0,
   "metadata": {
    "colab": {
     "base_uri": "https://localhost:8080/",
     "height": 284
    },
    "colab_type": "code",
    "executionInfo": {
     "elapsed": 1291,
     "status": "ok",
     "timestamp": 1581093401839,
     "user": {
      "displayName": "Alexandros Chasapis",
      "photoUrl": "",
      "userId": "04334621904766079219"
     },
     "user_tz": -120
    },
    "id": "NkGuoWZYfYUz",
    "outputId": "ce6d8b83-c554-4e7a-bed7-f0c05b1d98dd"
   },
   "outputs": [
    {
     "data": {
      "image/png": "[encoded data removed]",
      "text/plain": [
       "<Figure size 432x288 with 1 Axes>"
      ]
     },
     "metadata": {
      "tags": []
     },
     "output_type": "display_data"
    }
   ],
   "source": [
    "# plot the lenght of the comments\n",
    "sns.set(style=\"whitegrid\")\n",
    "ax = sns.violinplot(x=[len(t) for t in data['SentimentText']],scale='width').set_title('Length of each comment')"
   ]
  },
  {
   "cell_type": "code",
   "execution_count": 0,
   "metadata": {
    "colab": {
     "base_uri": "https://localhost:8080/",
     "height": 330
    },
    "colab_type": "code",
    "executionInfo": {
     "elapsed": 647,
     "status": "ok",
     "timestamp": 1581084960212,
     "user": {
      "displayName": "Alexandros Chasapis",
      "photoUrl": "",
      "userId": "04334621904766079219"
     },
     "user_tz": -120
    },
    "id": "cnkuJ0kg9ZNY",
    "outputId": "dd07b891-aac9-46ef-b307-a4e08a77e640"
   },
   "outputs": [
    {
     "data": {
      "image/png": "[encoded data removed]",
      "text/plain": [
       "<Figure size 504x360 with 1 Axes>"
      ]
     },
     "metadata": {
      "tags": []
     },
     "output_type": "display_data"
    }
   ],
   "source": [
    "# histogramm of the size of the two classes\n",
    "fig, ax1 = plt.subplots(figsize=(7,5))\n",
    "graph = sns.countplot(ax=ax1,x='Sentiment', data=data,palette='Set3')\n",
    "graph.set_xticklabels(graph.get_xticklabels(),rotation=90)\n",
    "i=0\n",
    "for p in graph.patches:\n",
    "    height = p.get_height()\n",
    "    graph.text(p.get_x()+p.get_width()/2., height + 0.1,\n",
    "        data['Sentiment'].value_counts()[i],ha=\"center\")\n",
    "    i += 1"
   ]
  },
  {
   "cell_type": "code",
   "execution_count": 0,
   "metadata": {
    "colab": {},
    "colab_type": "code",
    "id": "Btkd2Yn89a7F"
   },
   "outputs": [],
   "source": [
    "# tokenize which removes handles(@name) reduces the lenght of repetitive letters and lower case the comments\n",
    "tknzr = TweetTokenizer(strip_handles=True,reduce_len=True,preserve_case = False)\n",
    "data[\"tokenized\"] = [tknzr.tokenize(data.iloc[i].SentimentText) for i in range(len(data))]\n",
    "# stitch the tokens back to sentenses\n",
    "data[\"tokenized\"] = [\" \".join(data.tokenized.iloc[i]) for i in range(len(data))]"
   ]
  },
  {
   "cell_type": "code",
   "execution_count": 0,
   "metadata": {
    "colab": {},
    "colab_type": "code",
    "id": "yDnnQitV9a7N"
   },
   "outputs": [],
   "source": [
    "# split the dataset into train and test set in ratio 9/1\n",
    "x_train, x_test, y_train, y_test = train_test_split(data.tokenized, data.Sentiment, test_size=0.1, random_state=8888)"
   ]
  },
  {
   "cell_type": "code",
   "execution_count": 0,
   "metadata": {
    "colab": {
     "base_uri": "https://localhost:8080/",
     "height": 53
    },
    "colab_type": "code",
    "executionInfo": {
     "elapsed": 3528,
     "status": "ok",
     "timestamp": 1581084433412,
     "user": {
      "displayName": "Vanessa Lislevand",
      "photoUrl": "",
      "userId": "10271734470907662323"
     },
     "user_tz": -120
    },
    "id": "bNWtuZoD9a7Y",
    "outputId": "a3d610fd-3b73-4de6-84ed-586e67525a3d"
   },
   "outputs": [
    {
     "name": "stdout",
     "output_type": "stream",
     "text": [
      "[nltk_data] Downloading package stopwords to /root/nltk_data...\n",
      "[nltk_data]   Unzipping corpora/stopwords.zip.\n"
     ]
    }
   ],
   "source": [
    "# take the tf id frequency for the comments in order to feed the models\n",
    "nltk.download('stopwords')\n",
    "vectorizer = TfidfVectorizer(ngram_range=(1, 2), max_features = 5000, sublinear_tf=True, min_df=3, stop_words=stopwords.words('english'))\n",
    "\n",
    "x_train_tfidf = vectorizer.fit_transform(x_train)\n",
    "x_test_tfidf = vectorizer.transform(x_test)"
   ]
  },
  {
   "cell_type": "code",
   "execution_count": 0,
   "metadata": {
    "colab": {
     "base_uri": "https://localhost:8080/",
     "height": 274
    },
    "colab_type": "code",
    "executionInfo": {
     "elapsed": 590,
     "status": "ok",
     "timestamp": 1581084444254,
     "user": {
      "displayName": "Vanessa Lislevand",
      "photoUrl": "",
      "userId": "10271734470907662323"
     },
     "user_tz": -120
    },
    "id": "kWGnW7Zk9a7i",
    "outputId": "c0b562ca-d48f-4f22-cfff-ca046ce439e2"
   },
   "outputs": [
    {
     "name": "stdout",
     "output_type": "stream",
     "text": [
      "Classification report for classifier DummyClassifier(constant=None, random_state=None, strategy='most_frequent'):\n",
      "              precision    recall  f1-score   support\n",
      "\n",
      "           0       0.00      0.00      0.00     39169\n",
      "           1       0.56      1.00      0.72     50821\n",
      "\n",
      "    accuracy                           0.56     89990\n",
      "   macro avg       0.28      0.50      0.36     89990\n",
      "weighted avg       0.32      0.56      0.41     89990\n",
      "\n",
      "\n"
     ]
    },
    {
     "name": "stderr",
     "output_type": "stream",
     "text": [
      "/usr/local/lib/python3.6/dist-packages/sklearn/metrics/_classification.py:1272: UndefinedMetricWarning: Precision and F-score are ill-defined and being set to 0.0 in labels with no predicted samples. Use `zero_division` parameter to control this behavior.\n",
      "  _warn_prf(average, modifier, msg_start, len(result))\n"
     ]
    }
   ],
   "source": [
    "# use the majority model as a classifier. It assigns all the comments in the most frequent class.\n",
    "base = DummyClassifier(strategy='most_frequent')\n",
    "# train dummy classifier\n",
    "base.fit(x_train_tfidf, y_train)\n",
    "# predict \n",
    "predictions = base.predict(x_train_tfidf)\n",
    "print(\"Classification report for classifier %s:\\n%s\\n\"%(base, metrics.classification_report(y_train, predictions)))"
   ]
  },
  {
   "cell_type": "code",
   "execution_count": 0,
   "metadata": {
    "colab": {
     "base_uri": "https://localhost:8080/",
     "height": 290
    },
    "colab_type": "code",
    "executionInfo": {
     "elapsed": 807,
     "status": "ok",
     "timestamp": 1581084452450,
     "user": {
      "displayName": "Vanessa Lislevand",
      "photoUrl": "",
      "userId": "10271734470907662323"
     },
     "user_tz": -120
    },
    "id": "U3cPUwVl9a7t",
    "outputId": "10e5f5bf-bb8b-4c0c-9b58-6f22b080d18d"
   },
   "outputs": [
    {
     "name": "stdout",
     "output_type": "stream",
     "text": [
      "Classification report for classifier LogisticRegression(C=1.0, class_weight=None, dual=False, fit_intercept=True,\n",
      "                   intercept_scaling=1, l1_ratio=None, max_iter=100,\n",
      "                   multi_class='auto', n_jobs=None, penalty='l2',\n",
      "                   random_state=8888, solver='liblinear', tol=0.0001, verbose=0,\n",
      "                   warm_start=False):\n",
      "              precision    recall  f1-score   support\n",
      "\n",
      "           0       0.77      0.68      0.73     39169\n",
      "           1       0.78      0.85      0.81     50821\n",
      "\n",
      "    accuracy                           0.77     89990\n",
      "   macro avg       0.77      0.76      0.77     89990\n",
      "weighted avg       0.77      0.77      0.77     89990\n",
      "\n",
      "\n"
     ]
    }
   ],
   "source": [
    "# train and predict the logistic model with random hyperparameters\n",
    "clf = LogisticRegression(solver=\"liblinear\",random_state=8888)\n",
    "# fit logistic regression\n",
    "clf.fit(x_train_tfidf, y_train)\n",
    "# predict logistic regression\n",
    "predictions = clf.predict(x_train_tfidf)\n",
    "print(\"Classification report for classifier %s:\\n%s\\n\"%(clf, metrics.classification_report(y_train, predictions)))"
   ]
  },
  {
   "cell_type": "code",
   "execution_count": 0,
   "metadata": {
    "colab": {
     "base_uri": "https://localhost:8080/",
     "height": 254
    },
    "colab_type": "code",
    "executionInfo": {
     "elapsed": 125777,
     "status": "ok",
     "timestamp": 1581084590187,
     "user": {
      "displayName": "Vanessa Lislevand",
      "photoUrl": "",
      "userId": "10271734470907662323"
     },
     "user_tz": -120
    },
    "id": "f2ZiZO7i9a7z",
    "outputId": "17be0a21-99ad-46df-ba34-d7965b834f88",
    "scrolled": true
   },
   "outputs": [
    {
     "name": "stdout",
     "output_type": "stream",
     "text": [
      "Classification report for classifier KNeighborsClassifier(algorithm='auto', leaf_size=30, metric='minkowski',\n",
      "                     metric_params=None, n_jobs=None, n_neighbors=5, p=2,\n",
      "                     weights='uniform'):\n",
      "              precision    recall  f1-score   support\n",
      "\n",
      "           0       0.76      0.65      0.70     39169\n",
      "           1       0.75      0.84      0.79     50821\n",
      "\n",
      "    accuracy                           0.76     89990\n",
      "   macro avg       0.76      0.74      0.75     89990\n",
      "weighted avg       0.76      0.76      0.75     89990\n",
      "\n",
      "\n"
     ]
    }
   ],
   "source": [
    "# train and predict the KNN model with random hyperparameters\n",
    "clf = KNeighborsClassifier(n_neighbors=5)\n",
    "# fit KNN\n",
    "clf.fit(x_train_tfidf, y_train)\n",
    "# predict KNN\n",
    "predictions = clf.predict(x_train_tfidf)\n",
    "print(\"Classification report for classifier %s:\\n%s\\n\"%(clf, metrics.classification_report(y_train, predictions)))"
   ]
  },
  {
   "cell_type": "code",
   "execution_count": 0,
   "metadata": {
    "colab": {},
    "colab_type": "code",
    "id": "J59fpmlp9a76"
   },
   "outputs": [],
   "source": [
    "lr_pipeline = Pipeline([\n",
    "    ('tfidf_vectorizer', TfidfVectorizer()),\n",
    "    ('lr', LogisticRegression())])"
   ]
  },
  {
   "cell_type": "code",
   "execution_count": 0,
   "metadata": {
    "colab": {
     "base_uri": "https://localhost:8080/",
     "height": 71
    },
    "colab_type": "code",
    "executionInfo": {
     "elapsed": 3096892,
     "status": "ok",
     "timestamp": 1580938340696,
     "user": {
      "displayName": "Panagiotis Kolozis",
      "photoUrl": "https://lh3.googleusercontent.com/a-/AAuE7mC-3SHlhAOwoVxU50mSxt3xKdzfgQClq1zVr1N_zw=s64",
      "userId": "00962902516379623090"
     },
     "user_tz": -120
    },
    "id": "4Hk9yb9K9a8E",
    "outputId": "ecf9747a-26de-494c-9c6d-713e61d4c6a1"
   },
   "outputs": [
    {
     "name": "stdout",
     "output_type": "stream",
     "text": [
      "Best Score:  0.8063859933414946\n",
      "Best Params:  {'lr__C': 1, 'lr__random_state': 8888, 'lr__solver': 'liblinear', 'tfidf_vectorizer__max_features': 10000, 'tfidf_vectorizer__min_df': 5, 'tfidf_vectorizer__ngram_range': (1, 2), 'tfidf_vectorizer__sublinear_tf': True}\n"
     ]
    }
   ],
   "source": [
    "# Grid search for logistic regression\n",
    "grid_params = {\n",
    "  'lr__solver': ['liblinear'],\n",
    "  'lr__C': [0.001,0.01,0.1,1,10,100],\n",
    "  'lr__random_state': [8888],\n",
    "  'tfidf_vectorizer__min_df': [3,4,5],\n",
    "  'tfidf_vectorizer__max_features':[2500,5000,10000],\n",
    "  'tfidf_vectorizer__ngram_range': [(1,2),(1,3)],  \n",
    "  'tfidf_vectorizer__sublinear_tf': [True,False],  \n",
    "}\n",
    "\n",
    "clf = GridSearchCV(lr_pipeline, grid_params,scoring='f1',cv=3)\n",
    "clf.fit(x_train, y_train)\n",
    "print(\"Best Score: \", clf.best_score_)\n",
    "print(\"Best Params: \", clf.best_params_)"
   ]
  },
  {
   "cell_type": "code",
   "execution_count": 0,
   "metadata": {
    "colab": {
     "base_uri": "https://localhost:8080/",
     "height": 584
    },
    "colab_type": "code",
    "executionInfo": {
     "elapsed": 4112,
     "status": "ok",
     "timestamp": 1581084626977,
     "user": {
      "displayName": "Vanessa Lislevand",
      "photoUrl": "",
      "userId": "10271734470907662323"
     },
     "user_tz": -120
    },
    "id": "xm04RrLh9a8b",
    "outputId": "f97ea59d-cac4-4627-da2b-60ad0c872530",
    "scrolled": true
   },
   "outputs": [
    {
     "name": "stdout",
     "output_type": "stream",
     "text": [
      "Classification report for classifier in train LogisticRegression(C=1, class_weight=None, dual=False, fit_intercept=True,\n",
      "                   intercept_scaling=1, l1_ratio=None, max_iter=100,\n",
      "                   multi_class='auto', n_jobs=None, penalty='l2',\n",
      "                   random_state=8888, solver='liblinear', tol=0.0001, verbose=0,\n",
      "                   warm_start=False):\n",
      "              precision    recall  f1-score   support\n",
      "\n",
      "           0       0.79      0.70      0.74     39169\n",
      "           1       0.79      0.86      0.82     50821\n",
      "\n",
      "    accuracy                           0.79     89990\n",
      "   macro avg       0.79      0.78      0.78     89990\n",
      "weighted avg       0.79      0.79      0.79     89990\n",
      "\n",
      "\n",
      "Classification report for classifier in test LogisticRegression(C=1, class_weight=None, dual=False, fit_intercept=True,\n",
      "                   intercept_scaling=1, l1_ratio=None, max_iter=100,\n",
      "                   multi_class='auto', n_jobs=None, penalty='l2',\n",
      "                   random_state=8888, solver='liblinear', tol=0.0001, verbose=0,\n",
      "                   warm_start=False):\n",
      "              precision    recall  f1-score   support\n",
      "\n",
      "           0       0.75      0.65      0.70      4363\n",
      "           1       0.75      0.84      0.79      5636\n",
      "\n",
      "    accuracy                           0.75      9999\n",
      "   macro avg       0.75      0.74      0.75      9999\n",
      "weighted avg       0.75      0.75      0.75      9999\n",
      "\n",
      "\n"
     ]
    }
   ],
   "source": [
    "# use the hyperparameters which performed best in the grid search , train and predict the logistic regression\n",
    "vectorizer = TfidfVectorizer(ngram_range=(1, 2), max_features = 10000, sublinear_tf=True, min_df=5, stop_words=stopwords.words('english'))\n",
    "\n",
    "x_train_tfidf_logistic = vectorizer.fit_transform(x_train)\n",
    "x_test_tfidf_logistic = vectorizer.transform(x_test)\n",
    "\n",
    "clf_logistic = LogisticRegression(solver=\"liblinear\",random_state=8888,C=1)\n",
    "# train the logistic regression\n",
    "clf_logistic.fit(x_train_tfidf_logistic, y_train)\n",
    "# predict in train set\n",
    "predictions = clf_logistic.predict(x_train_tfidf_logistic)\n",
    "print(\"Classification report for classifier in train %s:\\n%s\\n\"%(clf_logistic, metrics.classification_report(y_train, predictions)))\n",
    "# predict for the test set\n",
    "predictions_test_logistic = clf_logistic.predict(x_test_tfidf_logistic)\n",
    "print(\"Classification report for classifier in test %s:\\n%s\\n\"%(clf_logistic, metrics.classification_report(y_test, predictions_test_logistic)))"
   ]
  },
  {
   "cell_type": "code",
   "execution_count": 0,
   "metadata": {
    "colab": {},
    "colab_type": "code",
    "id": "QAL4yvkoinFm"
   },
   "outputs": [],
   "source": [
    "# A custom function that plots the learning curves of a model \n",
    "def plot_learning_curve(estimator, title, X, y, ylim=None, cv=None,\n",
    "                        n_jobs=1, train_sizes=np.linspace(.1, 1.0, 5)):\n",
    "   \n",
    "    plt.figure()\n",
    "    plt.title(title)\n",
    "    if ylim is not None:\n",
    "        plt.ylim(*ylim)\n",
    "    plt.xlabel(\"Training examples\")\n",
    "    plt.ylabel(\"F1-score\")\n",
    "    train_sizes, train_scores, test_scores = learning_curve(\n",
    "        estimator, X, y, cv=cv, n_jobs=n_jobs,scoring='f1', train_sizes=train_sizes)\n",
    "    train_scores_mean = np.mean(train_scores, axis=1)\n",
    "    train_scores_std = np.std(train_scores, axis=1)\n",
    "    test_scores_mean = np.mean(test_scores, axis=1)\n",
    "    test_scores_std = np.std(test_scores, axis=1)\n",
    "    plt.grid()\n",
    "\n",
    "    plt.fill_between(train_sizes, train_scores_mean - train_scores_std,\n",
    "                     train_scores_mean + train_scores_std, alpha=0.1,\n",
    "                     color=\"b\")\n",
    "    plt.fill_between(train_sizes, test_scores_mean - test_scores_std,\n",
    "                     test_scores_mean + test_scores_std, alpha=0.1, color=\"orange\")\n",
    "    plt.plot(train_sizes, train_scores_mean, 'o-', color=\"b\",\n",
    "             label=\"Training score\")\n",
    "    plt.plot(train_sizes, test_scores_mean, 'o-', color=\"orange\",\n",
    "             label=\"Cross-validation score\")\n",
    "\n",
    "    plt.legend(loc=\"best\")\n",
    "    return plt"
   ]
  },
  {
   "cell_type": "code",
   "execution_count": 0,
   "metadata": {
    "colab": {
     "base_uri": "https://localhost:8080/",
     "height": 295
    },
    "colab_type": "code",
    "executionInfo": {
     "elapsed": 5113,
     "status": "ok",
     "timestamp": 1581076836136,
     "user": {
      "displayName": "Panagiotis Kolozis",
      "photoUrl": "https://lh3.googleusercontent.com/a-/AAuE7mC-3SHlhAOwoVxU50mSxt3xKdzfgQClq1zVr1N_zw=s64",
      "userId": "00962902516379623090"
     },
     "user_tz": -120
    },
    "id": "VQW4e6ke9a8m",
    "outputId": "0705c3b5-bdbf-489f-f955-8a753b6bca12"
   },
   "outputs": [
    {
     "data": {
      "image/png": "[encoded data removed]",
      "text/plain": [
       "<Figure size 432x288 with 1 Axes>"
      ]
     },
     "metadata": {
      "tags": []
     },
     "output_type": "display_data"
    }
   ],
   "source": [
    "X, y = x_train_tfidf_logistic,y_train\n",
    "\n",
    "title = \"Learning Curves train set(Logistic Regression)\"\n",
    "cv = ShuffleSplit(n_splits=5, test_size=0.2, random_state=0)\n",
    "estimator = LogisticRegression(C=1,solver=\"liblinear\",random_state=8888)\n",
    "# plot the learning curve fro logistic regression\n",
    "plot_learning_curve(estimator, title, X, y, (0.7, 1.01), cv=cv, n_jobs=-1)\n",
    "plt.show()\n"
   ]
  },
  {
   "cell_type": "code",
   "execution_count": 0,
   "metadata": {
    "colab": {
     "base_uri": "https://localhost:8080/",
     "height": 295
    },
    "colab_type": "code",
    "executionInfo": {
     "elapsed": 1090,
     "status": "ok",
     "timestamp": 1581084661306,
     "user": {
      "displayName": "Vanessa Lislevand",
      "photoUrl": "",
      "userId": "10271734470907662323"
     },
     "user_tz": -120
    },
    "id": "KkfY6ix09a80",
    "outputId": "440a6977-2eeb-4ce1-ea11-cbb4692ccbc6"
   },
   "outputs": [
    {
     "data": {
      "image/png": "[encoded data removed]",
      "text/plain": [
       "<Figure size 432x288 with 1 Axes>"
      ]
     },
     "metadata": {
      "tags": []
     },
     "output_type": "display_data"
    }
   ],
   "source": [
    "estimator = LogisticRegression(C=1,solver=\"liblinear\",random_state=8888)\n",
    "name = 'Logistic Regression'\n",
    "model =estimator\n",
    "model.fit(x_train_tfidf_logistic,y_train)\n",
    "pred = model.predict_proba(x_test_tfidf_logistic)\n",
    "precision, recall, thresholds = precision_recall_curve(y_test, pred[:,1])\n",
    "area = auc(recall, precision)\n",
    "\n",
    "# plot the AUC curve for logistic regression \n",
    "plt.plot(recall, precision, label='Precision-Recall curve')\n",
    "plt.xlabel('Recall')\n",
    "plt.ylabel('Precision')\n",
    "plt.ylim([0.0, 1.05])\n",
    "plt.xlim([0.0, 1.0])\n",
    "plt.title('Precision-Recall %s: AUC=%0.2f' %(name,area))\n",
    "plt.legend(loc=\"lower left\")\n",
    "plt.show()"
   ]
  },
  {
   "cell_type": "code",
   "execution_count": 0,
   "metadata": {
    "colab": {},
    "colab_type": "code",
    "id": "nJPYfvZi9a8L"
   },
   "outputs": [],
   "source": [
    "lr_pipeline = Pipeline([\n",
    "    ('tfidf_vectorizer', TfidfVectorizer()),\n",
    "    ('kn', KNeighborsClassifier())])"
   ]
  },
  {
   "cell_type": "code",
   "execution_count": 0,
   "metadata": {
    "colab": {
     "base_uri": "https://localhost:8080/",
     "height": 51
    },
    "colab_type": "code",
    "executionInfo": {
     "elapsed": 267,
     "status": "ok",
     "timestamp": 1580951060908,
     "user": {
      "displayName": "Panagiotis Kolozis",
      "photoUrl": "https://lh3.googleusercontent.com/a-/AAuE7mC-3SHlhAOwoVxU50mSxt3xKdzfgQClq1zVr1N_zw=s64",
      "userId": "00962902516379623090"
     },
     "user_tz": -120
    },
    "id": "HScm_Vsb9a8U",
    "outputId": "6c6a1ef0-f4d6-47c5-d7ff-df265968403e"
   },
   "outputs": [
    {
     "name": "stdout",
     "output_type": "stream",
     "text": [
      "Best Score:  0.7045160480949003\n",
      "Best Params:  {'tfidf_vectorizer__sublinear_tf': False, 'tfidf_vectorizer__ngram_range': (1, 3), 'tfidf_vectorizer__min_df': 3, 'tfidf_vectorizer__max_features': 2500, 'kn__n_neighbors': 5}\n"
     ]
    }
   ],
   "source": [
    "# grid search for KNN \n",
    "grid_params = {\n",
    "  'kn__n_neighbors': [2,3,4,5],\n",
    "  'tfidf_vectorizer__min_df': [3,4,5],\n",
    "  'tfidf_vectorizer__max_features':[2500,5000,10000],\n",
    "  'tfidf_vectorizer__ngram_range': [(1,2),(1,3)],  \n",
    "  'tfidf_vectorizer__sublinear_tf': [True,False],  \n",
    "}\n",
    "\n",
    "clf = RandomizedSearchCV(lr_pipeline, grid_params,scoring='f1',cv=3, n_iter=100)\n",
    "clf.fit(x_train, y_train)\n",
    "print(\"Best Score: \", clf.best_score_)\n",
    "print(\"Best Params: \", clf.best_params_)"
   ]
  },
  {
   "cell_type": "code",
   "execution_count": 0,
   "metadata": {
    "colab": {
     "base_uri": "https://localhost:8080/",
     "height": 511
    },
    "colab_type": "code",
    "executionInfo": {
     "elapsed": 142827,
     "status": "ok",
     "timestamp": 1581084819748,
     "user": {
      "displayName": "Vanessa Lislevand",
      "photoUrl": "",
      "userId": "10271734470907662323"
     },
     "user_tz": -120
    },
    "id": "SO5tj71m9a8-",
    "outputId": "e3c2458b-7cfe-4331-9615-4c0dc0810d28",
    "scrolled": true
   },
   "outputs": [
    {
     "name": "stdout",
     "output_type": "stream",
     "text": [
      "Classification report for classifier in trainKNeighborsClassifier(algorithm='auto', leaf_size=30, metric='minkowski',\n",
      "                     metric_params=None, n_jobs=None, n_neighbors=5, p=2,\n",
      "                     weights='uniform'):\n",
      "              precision    recall  f1-score   support\n",
      "\n",
      "           0       0.76      0.64      0.69     39169\n",
      "           1       0.75      0.85      0.80     50821\n",
      "\n",
      "    accuracy                           0.75     89990\n",
      "   macro avg       0.76      0.74      0.74     89990\n",
      "weighted avg       0.76      0.75      0.75     89990\n",
      "\n",
      "\n",
      "Classification report for classifier in test KNeighborsClassifier(algorithm='auto', leaf_size=30, metric='minkowski',\n",
      "                     metric_params=None, n_jobs=None, n_neighbors=5, p=2,\n",
      "                     weights='uniform'):\n",
      "              precision    recall  f1-score   support\n",
      "\n",
      "           0       0.61      0.49      0.54      4363\n",
      "           1       0.66      0.76      0.70      5636\n",
      "\n",
      "    accuracy                           0.64      9999\n",
      "   macro avg       0.63      0.62      0.62      9999\n",
      "weighted avg       0.64      0.64      0.63      9999\n",
      "\n",
      "\n"
     ]
    }
   ],
   "source": [
    "# Use the hyperparameters from grid search train and predict the KNN model\n",
    "vectorizer = TfidfVectorizer(ngram_range=(1, 3), max_features = 2500, sublinear_tf=False, min_df=3, stop_words=stopwords.words('english'))\n",
    "\n",
    "x_train_tfidf_knn = vectorizer.fit_transform(x_train)\n",
    "x_test_tfidf_knn = vectorizer.transform(x_test)\n",
    "\n",
    "clf_knn = KNeighborsClassifier(n_neighbors=5)\n",
    "# Train KNN\n",
    "clf_knn.fit(x_train_tfidf_knn, y_train)\n",
    "#Predict in train set \n",
    "predictions = clf_knn.predict(x_train_tfidf_knn)\n",
    "print(\"Classification report for classifier in train%s:\\n%s\\n\"%(clf_knn, metrics.classification_report(y_train, predictions)))\n",
    "# Predict in test set\n",
    "predictions_test_knn = clf_knn.predict(x_test_tfidf_knn)\n",
    "print(\"Classification report for classifier in test %s:\\n%s\\n\"%(clf_knn, metrics.classification_report(y_test, predictions_test_knn)))"
   ]
  },
  {
   "cell_type": "code",
   "execution_count": 0,
   "metadata": {
    "colab": {
     "base_uri": "https://localhost:8080/",
     "height": 295
    },
    "colab_type": "code",
    "executionInfo": {
     "elapsed": 1030026,
     "status": "ok",
     "timestamp": 1581078457137,
     "user": {
      "displayName": "Panagiotis Kolozis",
      "photoUrl": "https://lh3.googleusercontent.com/a-/AAuE7mC-3SHlhAOwoVxU50mSxt3xKdzfgQClq1zVr1N_zw=s64",
      "userId": "00962902516379623090"
     },
     "user_tz": -120
    },
    "id": "asCZUIKW9a9F",
    "outputId": "4c5f70d9-a609-4b90-e3f2-dfa4f0daabcb"
   },
   "outputs": [
    {
     "data": {
      "image/png": "[encoded data removed]",
      "text/plain": [
       "<Figure size 432x288 with 1 Axes>"
      ]
     },
     "metadata": {
      "tags": []
     },
     "output_type": "display_data"
    }
   ],
   "source": [
    "X, y = x_train_tfidf_knn,y_train\n",
    "\n",
    "title = \"Learning Curves train set (KNN)\"\n",
    "cv = ShuffleSplit(n_splits=5, test_size=0.2, random_state=0)\n",
    "estimator = KNeighborsClassifier(n_neighbors=5)\n",
    "# plot the learning curves for KNN\n",
    "plot_learning_curve(estimator, title, X, y, (0.4, 1.01), cv=cv)\n",
    "plt.show()"
   ]
  },
  {
   "cell_type": "code",
   "execution_count": 0,
   "metadata": {
    "colab": {
     "base_uri": "https://localhost:8080/",
     "height": 295
    },
    "colab_type": "code",
    "executionInfo": {
     "elapsed": 14123,
     "status": "ok",
     "timestamp": 1581078527716,
     "user": {
      "displayName": "Panagiotis Kolozis",
      "photoUrl": "https://lh3.googleusercontent.com/a-/AAuE7mC-3SHlhAOwoVxU50mSxt3xKdzfgQClq1zVr1N_zw=s64",
      "userId": "00962902516379623090"
     },
     "user_tz": -120
    },
    "id": "1MnkOJpl9a9P",
    "outputId": "9e7cda74-29b3-4382-8232-4f17c0d8ff2a"
   },
   "outputs": [
    {
     "data": {
      "image/png": "[encoded data removed]",
      "text/plain": [
       "<Figure size 432x288 with 1 Axes>"
      ]
     },
     "metadata": {
      "tags": []
     },
     "output_type": "display_data"
    }
   ],
   "source": [
    "name = \"KNN\"\n",
    "estimator = KNeighborsClassifier(n_neighbors=5)\n",
    "model =estimator\n",
    "model.fit(x_train_tfidf_knn,y_train)\n",
    "pred = model.predict_proba(x_test_tfidf_knn)\n",
    "precision, recall, thresholds = precision_recall_curve(y_test, pred[:,1])\n",
    "area = auc(recall, precision)\n",
    "\n",
    "# Plot the Area Under Curve for KNN model\n",
    "plt.plot(recall, precision, label='Precision-Recall curve')\n",
    "plt.xlabel('Recall')\n",
    "plt.ylabel('Precision')\n",
    "plt.ylim([0.0, 1.05])\n",
    "plt.xlim([0.0, 1.0])\n",
    "plt.title('Precision-Recall %s: AUC=%0.2f' % (name,area))\n",
    "plt.legend(loc=\"lower left\")\n",
    "plt.show()"
   ]
  },
  {
   "cell_type": "code",
   "execution_count": 0,
   "metadata": {
    "colab": {
     "base_uri": "https://localhost:8080/",
     "height": 51
    },
    "colab_type": "code",
    "executionInfo": {
     "elapsed": 143803,
     "status": "ok",
     "timestamp": 1581079574250,
     "user": {
      "displayName": "Panagiotis Kolozis",
      "photoUrl": "https://lh3.googleusercontent.com/a-/AAuE7mC-3SHlhAOwoVxU50mSxt3xKdzfgQClq1zVr1N_zw=s64",
      "userId": "00962902516379623090"
     },
     "user_tz": -120
    },
    "id": "bXz6OZc3Qklv",
    "outputId": "462bb544-a8b3-4f91-c47b-1760c9d5672c"
   },
   "outputs": [
    {
     "name": "stdout",
     "output_type": "stream",
     "text": [
      "Logistic regression performs better than KNN\n",
      "p-value: 0.0\n"
     ]
    }
   ],
   "source": [
    "# H0 logistic regression perfoms as good as KNN : F1_logistic = F1_KNN\n",
    "# H1 Logistic regression performs better than KNN : F1_logistic > F1_KNN\n",
    "\n",
    "# n: lenght of test set\n",
    "n = x_test_tfidf.shape[0]\n",
    "# b: samples draws\n",
    "b = 1000\n",
    "# the difference between F1 score of logistic and KNN \n",
    "delta = f1_score(y_test,predictions_test_logistic,average=\"macro\") - f1_score(y_test,predictions_test_knn,average=\"macro\")\n",
    "count = 0\n",
    "for i in range(b):\n",
    "  # draw random samples with replacement from the test sets  \n",
    "    x_logistic,x_knn,y = resample(x_test_tfidf_logistic,x_test_tfidf_knn,y_test, n_samples=n)\n",
    "    # in the random test sets predict the models\n",
    "    log = clf_logistic.predict(x_logistic)\n",
    "    knn = clf_knn.predict(x_knn)\n",
    "    # compute the difference in f1 scores in the random test samples\n",
    "    diff = f1_score(log,y,average=\"macro\") - f1_score(knn,y,average=\"macro\")\n",
    "    if diff > 2*delta:\n",
    "            count += 1\n",
    "p_value = count/b\n",
    "if p_value < 0.01:\n",
    "    print(\"Logistic regression performs better than KNN\")\n",
    "    print(\"p-value:\",p_value)\n",
    "else:\n",
    "    print(\"Logistic regression performs as good as KNN\")\n",
    "    print(\"p-value:\",p_value)"
   ]
  }
 ],
 "metadata": {
  "accelerator": "GPU",
  "colab": {
   "collapsed_sections": [],
   "name": "Text Analytics assignment 2.ipynb",
   "provenance": []
  },
  "kernelspec": {
   "display_name": "Python 3",
   "language": "python",
   "name": "python3"
  },
  "language_info": {
   "codemirror_mode": {
    "name": "ipython",
    "version": 3
   },
   "file_extension": ".py",
   "mimetype": "text/x-python",
   "name": "python",
   "nbconvert_exporter": "python",
   "pygments_lexer": "ipython3",
   "version": "3.7.7"
  }
 },
 "nbformat": 4,
 "nbformat_minor": 1
}
